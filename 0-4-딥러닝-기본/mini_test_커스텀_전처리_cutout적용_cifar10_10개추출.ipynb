{
  "nbformat": 4,
  "nbformat_minor": 0,
  "metadata": {
    "colab": {
      "provenance": []
    },
    "kernelspec": {
      "name": "python3",
      "display_name": "Python 3"
    },
    "language_info": {
      "name": "python"
    }
  },
  "cells": [
    {
      "cell_type": "code",
      "execution_count": null,
      "metadata": {
        "id": "j1ACTejLo2cO"
      },
      "outputs": [],
      "source": [
        "import torch\n",
        "import torchvision.transforms as tr # 이미지 전처리 기능들을 제공하는 라이브러리\n",
        "from torch.utils.data import DataLoader, Dataset # 데이터를 모델에 사용할 수 있도록 정리해 주는 라이브러리\n",
        "import numpy as np # 넘파이 기본 라이브러리\n",
        "import matplotlib.pyplot as plt"
      ]
    },
    {
      "cell_type": "code",
      "source": [
        "class CutOut:\n",
        "\n",
        "    def __init__(self, ratio=.5):\n",
        "        self.ratio = int(1/ratio)\n",
        "\n",
        "    def __call__(self, inputs):\n",
        "\n",
        "        active = int(np.random.randint(0, self.ratio, 1))\n",
        "\n",
        "        if active == 0:\n",
        "            _, w, h = inputs.size()\n",
        "            min_len = min(w, h)\n",
        "            box_size = int(min_len//4)\n",
        "            idx = int(np.random.randint(0, min_len-box_size, 1))\n",
        "            inputs[:,idx:idx+box_size,idx:idx+box_size] = 0\n",
        "\n",
        "        return inputs"
      ],
      "metadata": {
        "id": "0UNCWXctpQ8E"
      },
      "execution_count": null,
      "outputs": []
    },
    {
      "cell_type": "code",
      "source": [
        "transf = tr.Compose([tr.Resize(128), tr.ToTensor(), CutOut()])\n",
        "trainset = torchvision.datasets.CIFAR10(root='./data', train=True, download=True, transform=transf)\n",
        "\n",
        "trainloader = DataLoader(trainset, batch_size=10, shuffle=True)\n",
        "images, labels = iter(trainloader).next()\n",
        "imshow(torchvision.utils.make_grid(images,nrow=10))\n",
        "print(images.size()) # 배치 및 이미지 크기 확인\n",
        "\n"
      ],
      "metadata": {
        "id": "Vi1-S4topRGL"
      },
      "execution_count": null,
      "outputs": []
    },
    {
      "cell_type": "code",
      "source": [],
      "metadata": {
        "id": "vFjlj9uZpRQM"
      },
      "execution_count": null,
      "outputs": []
    }
  ]
}