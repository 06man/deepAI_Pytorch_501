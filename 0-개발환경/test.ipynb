{
 "cells": [
  {
   "cell_type": "code",
   "id": "initial_id",
   "metadata": {
    "collapsed": true,
    "ExecuteTime": {
     "end_time": "2025-03-14T02:34:30.476586Z",
     "start_time": "2025-03-14T02:34:27.266845Z"
    }
   },
   "source": [
    "import torch\n",
    "print(torch.__version__)  # 설치된 PyTorch 버전 출력\n",
    "print(torch.cuda.is_available())  # CUDA 사용 가능 여부 확인\n",
    "\n",
    "if torch.cuda.is_available():\n",
    "    print(f\"GPU 사용 가능: {torch.cuda.get_device_name(0)}\")\n",
    "else:\n",
    "    print(\"GPU를 사용할 수 없습니다. CPU를 사용합니다.\")\n",
    "\n",
    "x = torch.rand(3, 3)\n",
    "y = torch.rand(3, 3)\n",
    "z = x + y\n",
    "print(\"x:\", x)\n",
    "print(\"y:\", y)\n",
    "print(\"z:\", z)"
   ],
   "outputs": [
    {
     "name": "stdout",
     "output_type": "stream",
     "text": [
      "2.6.0+cpu\n",
      "False\n",
      "GPU를 사용할 수 없습니다. CPU를 사용합니다.\n",
      "x: tensor([[0.9237, 0.9286, 0.4419],\n",
      "        [0.6556, 0.7602, 0.0000],\n",
      "        [0.1257, 0.6067, 0.4556]])\n",
      "y: tensor([[0.4004, 0.0610, 0.0211],\n",
      "        [0.0301, 0.7693, 0.0815],\n",
      "        [0.8225, 0.8339, 0.9090]])\n",
      "z: tensor([[1.3241, 0.9896, 0.4630],\n",
      "        [0.6857, 1.5295, 0.0815],\n",
      "        [0.9482, 1.4406, 1.3646]])\n"
     ]
    }
   ],
   "execution_count": 1
  }
 ],
 "metadata": {
  "kernelspec": {
   "display_name": "Python 3",
   "language": "python",
   "name": "python3"
  },
  "language_info": {
   "codemirror_mode": {
    "name": "ipython",
    "version": 2
   },
   "file_extension": ".py",
   "mimetype": "text/x-python",
   "name": "python",
   "nbconvert_exporter": "python",
   "pygments_lexer": "ipython2",
   "version": "2.7.6"
  }
 },
 "nbformat": 4,
 "nbformat_minor": 5
}
